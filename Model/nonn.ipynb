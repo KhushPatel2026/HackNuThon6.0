{
 "cells": [
  {
   "cell_type": "code",
   "execution_count": null,
   "metadata": {},
   "outputs": [
    {
     "name": "stderr",
     "output_type": "stream",
     "text": [
      "d:\\Khush\\Python\\python\\Lib\\site-packages\\xgboost\\training.py:183: UserWarning: [18:46:12] WARNING: C:\\actions-runner\\_work\\xgboost\\xgboost\\src\\learner.cc:738: \n",
      "Parameters: { \"use_label_encoder\" } are not used.\n",
      "\n",
      "  bst.update(dtrain, iteration=i, fobj=obj)\n"
     ]
    },
    {
     "name": "stdout",
     "output_type": "stream",
     "text": [
      "Random Forest Accuracy: 0.9967\n",
      "XGBoost Accuracy: 0.9967\n",
      "Ensemble Model Accuracy: 0.9967\n",
      "Ensemble Model AUC-ROC: 0.9978\n",
      "\n",
      "Classification Report for Ensemble Model:\n",
      "              precision    recall  f1-score   support\n",
      "\n",
      "           0       1.00      1.00      1.00       597\n",
      "           1       1.00      0.33      0.50         3\n",
      "\n",
      "    accuracy                           1.00       600\n",
      "   macro avg       1.00      0.67      0.75       600\n",
      "weighted avg       1.00      1.00      1.00       600\n",
      "\n"
     ]
    }
   ],
   "source": [
    "import pandas as pd\n",
    "import numpy as np\n",
    "import joblib\n",
    "from sklearn.model_selection import train_test_split\n",
    "from sklearn.preprocessing import StandardScaler\n",
    "from sklearn.ensemble import RandomForestClassifier, VotingClassifier\n",
    "from xgboost import XGBClassifier\n",
    "from sklearn.metrics import accuracy_score, classification_report, roc_auc_score\n",
    "\n",
    "df = pd.read_csv(\"onlinefraud.csv\")\n",
    "df = df.sample(n=300000, random_state=42)\n",
    "\n",
    "# Feature Engineering\n",
    "df[\"hour_of_day\"] = df[\"step\"] % 24\n",
    "df[\"amount_ratio_orig\"] = df[\"amount\"] / (df[\"oldbalanceOrg\"] + 1)\n",
    "df[\"amount_ratio_dest\"] = df[\"amount\"] / (df[\"oldbalanceDest\"] + 1)\n",
    "df[\"balance_diff_orig\"] = df[\"oldbalanceOrg\"] - df[\"newbalanceOrig\"]\n",
    "df[\"balance_diff_dest\"] = df[\"oldbalanceDest\"] - df[\"oldbalanceDest\"]\n",
    "df[\"error_check_1\"] = (df[\"oldbalanceOrg\"] - df[\"amount\"] == df[\"newbalanceOrig\"]).astype(int)\n",
    "df[\"error_check_2\"] = (df[\"oldbalanceDest\"] + df[\"amount\"] == df[\"newbalanceDest\"]).astype(int)\n",
    "\n",
    "# One-Hot Encode 'type'\n",
    "df = pd.get_dummies(df, columns=[\"type\"], drop_first=True)\n",
    "\n",
    "# Drop unnecessary columns\n",
    "df.drop([\"nameOrig\", \"nameDest\", \"step\"], axis=1, inplace=True)\n",
    "\n",
    "# Split data\n",
    "X = df.drop(\"isFraud\", axis=1)\n",
    "y = df[\"isFraud\"]\n",
    "\n",
    "scaler = StandardScaler()\n",
    "X_scaled = scaler.fit_transform(X)\n",
    "\n",
    "X_train, X_test, y_train, y_test = train_test_split(X_scaled, y, test_size=0.2, random_state=42)\n",
    "\n",
    "# Train Random Forest\n",
    "rf_model = RandomForestClassifier(n_estimators=100, random_state=42, n_jobs=-1)\n",
    "rf_model.fit(X_train, y_train)\n",
    "joblib.dump(rf_model, \"rf_model_nn.pkl\")\n",
    "\n",
    "# Train XGBoost\n",
    "xgb_model = XGBClassifier(use_label_encoder=False, eval_metric=\"logloss\")\n",
    "xgb_model.fit(X_train, y_train)\n",
    "joblib.dump(xgb_model, \"xgb_model_nn.pkl\")\n",
    "\n",
    "# Ensemble Voting Classifier (Random Forest + XGBoost)\n",
    "ensemble = VotingClassifier(estimators=[\n",
    "    (\"rf\", rf_model),\n",
    "    (\"xgb\", xgb_model)\n",
    "], voting=\"soft\", n_jobs=-1)\n",
    "\n",
    "ensemble.fit(X_train, y_train)\n",
    "joblib.dump(ensemble, \"ensemble_model_nn.pkl\")\n",
    "\n",
    "# Accuracy Check\n",
    "rf_acc = accuracy_score(y_test, rf_model.predict(X_test))\n",
    "xgb_acc = accuracy_score(y_test, xgb_model.predict(X_test))\n",
    "ensemble_acc = accuracy_score(y_test, ensemble.predict(X_test))\n",
    "ensemble_roc_auc = roc_auc_score(y_test, ensemble.predict_proba(X_test)[:, 1])\n",
    "\n",
    "print(f\"Random Forest Accuracy: {rf_acc:.4f}\")\n",
    "print(f\"XGBoost Accuracy: {xgb_acc:.4f}\")\n",
    "print(f\"Ensemble Model Accuracy: {ensemble_acc:.4f}\")\n",
    "print(f\"Ensemble Model AUC-ROC: {ensemble_roc_auc:.4f}\")\n",
    "\n",
    "# Classification Report for detailed fraud detection performance\n",
    "print(\"\\nClassification Report for Ensemble Model:\")\n",
    "print(classification_report(y_test, ensemble.predict(X_test)))"
   ]
  },
  {
   "cell_type": "code",
   "execution_count": null,
   "metadata": {},
   "outputs": [],
   "source": []
  }
 ],
 "metadata": {
  "kernelspec": {
   "display_name": "Python 3",
   "language": "python",
   "name": "python3"
  },
  "language_info": {
   "codemirror_mode": {
    "name": "ipython",
    "version": 3
   },
   "file_extension": ".py",
   "mimetype": "text/x-python",
   "name": "python",
   "nbconvert_exporter": "python",
   "pygments_lexer": "ipython3",
   "version": "3.12.4"
  }
 },
 "nbformat": 4,
 "nbformat_minor": 2
}
